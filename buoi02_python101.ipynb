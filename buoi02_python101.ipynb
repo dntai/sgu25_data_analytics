{
  "nbformat": 4,
  "nbformat_minor": 0,
  "metadata": {
    "colab": {
      "provenance": [],
      "authorship_tag": "ABX9TyMRwcOfc64l64u5QeWG3jWF",
      "include_colab_link": true
    },
    "kernelspec": {
      "name": "python3",
      "display_name": "Python 3"
    },
    "language_info": {
      "name": "python"
    }
  },
  "cells": [
    {
      "cell_type": "markdown",
      "metadata": {
        "id": "view-in-github",
        "colab_type": "text"
      },
      "source": [
        "<a href=\"https://colab.research.google.com/github/dntai/sgu25_data_analytics/blob/main/buoi02_python101.ipynb\" target=\"_parent\"><img src=\"https://colab.research.google.com/assets/colab-badge.svg\" alt=\"Open In Colab\"/></a>"
      ]
    },
    {
      "cell_type": "markdown",
      "source": [
        "# Buổi 02 - Demo"
      ],
      "metadata": {
        "id": "vciKClXLfUy2"
      }
    },
    {
      "cell_type": "markdown",
      "source": [
        "## Python Programming"
      ],
      "metadata": {
        "id": "hH1_p8qChoLw"
      }
    },
    {
      "cell_type": "code",
      "source": [
        "from IPython.display import display"
      ],
      "metadata": {
        "id": "GbmVGzMxhuXC"
      },
      "execution_count": 4,
      "outputs": []
    },
    {
      "cell_type": "code",
      "execution_count": 5,
      "metadata": {
        "colab": {
          "base_uri": "https://localhost:8080/",
          "height": 54
        },
        "id": "CCQNkLwNfH4k",
        "outputId": "6d40a578-9236-42ad-927a-fbba644a8330"
      },
      "outputs": [
        {
          "output_type": "stream",
          "name": "stdout",
          "text": [
            "Hello World\n"
          ]
        },
        {
          "output_type": "display_data",
          "data": {
            "text/plain": [
              "'Hello World'"
            ],
            "application/vnd.google.colaboratory.intrinsic+json": {
              "type": "string"
            }
          },
          "metadata": {}
        }
      ],
      "source": [
        "print(\"Hello World\")\n",
        "display(\"Hello World\")"
      ]
    },
    {
      "cell_type": "code",
      "source": [
        "# comment"
      ],
      "metadata": {
        "id": "CMDVJLEHh69A"
      },
      "execution_count": 6,
      "outputs": []
    },
    {
      "cell_type": "code",
      "source": [
        "# Indentation\n",
        "score = 80\n",
        "if score >=60:\n",
        "    print(\"Pass\")"
      ],
      "metadata": {
        "colab": {
          "base_uri": "https://localhost:8080/"
        },
        "id": "OhmGDDYRh8bw",
        "outputId": "480fe0af-a860-4eba-854d-3b7c7de1a141"
      },
      "execution_count": 8,
      "outputs": [
        {
          "output_type": "stream",
          "name": "stdout",
          "text": [
            "Pass\n"
          ]
        }
      ]
    },
    {
      "cell_type": "code",
      "source": [
        "# Variable\n",
        "x = 2\n",
        "y = x + 1"
      ],
      "metadata": {
        "id": "GWkDcWA9ibOu"
      },
      "execution_count": 9,
      "outputs": []
    },
    {
      "cell_type": "code",
      "source": [
        "# comment\n",
        "from platform import python_version\n",
        "print(\"Python Version:\", python_version())"
      ],
      "metadata": {
        "colab": {
          "base_uri": "https://localhost:8080/"
        },
        "id": "JtAgL_gHiiy8",
        "outputId": "f8028d99-a83b-409e-d860-57b8b1a3a8c3"
      },
      "execution_count": 11,
      "outputs": [
        {
          "output_type": "stream",
          "name": "stdout",
          "text": [
            "Python Version: 3.12.11\n"
          ]
        }
      ]
    },
    {
      "cell_type": "code",
      "source": [
        "# data type\n",
        "x = \"Hello World\"   #str\n",
        "print(f'{x}, data type = {type(x)}')\n",
        "\n",
        "x = 2               #int\n",
        "print(f'{x}, data type = {type(x)}')\n",
        "\n",
        "x = 2.5             #float\n",
        "print(f'{x}, data type = {type(x)}')\n",
        "\n",
        "x = 7j              #complex\n",
        "print(f'{x}, data type = {type(x)}')"
      ],
      "metadata": {
        "colab": {
          "base_uri": "https://localhost:8080/"
        },
        "id": "_0-V6ejxiqsI",
        "outputId": "3e67b10e-50c1-44d7-b49e-557bc315e189"
      },
      "execution_count": 13,
      "outputs": [
        {
          "output_type": "stream",
          "name": "stdout",
          "text": [
            "Hello World, data type = <class 'str'>\n",
            "2, data type = <class 'int'>\n",
            "2.5, data type = <class 'float'>\n",
            "7j, data type = <class 'complex'>\n"
          ]
        }
      ]
    },
    {
      "cell_type": "code",
      "source": [
        "# data structure\n",
        "x = [\"apple\", \"banana\", \"cherry\"] #list\n",
        "print(f'{x}, data type = {type(x)}')\n",
        "\n",
        "x = (\"apple\", \"banana\", \"cherry\") #tuple\n",
        "print(f'{x}, data type = {type(x)}')\n",
        "\n",
        "x = range(6) #range\n",
        "print(f'{x}, {list(x)}, data type = {type(x)}')\n",
        "\n",
        "x = {\"name\": \"Tom\", \"age\": 20} #dict\n",
        "print(f'{x}, data type = {type(x)}')\n",
        "\n",
        "x = {\"apple\", \"banana\", \"cherry\"} #set\n",
        "print(f'{x}, data type = {type(x)}')\n",
        "\n",
        "x = frozenset({\"apple\", \"banana\", \"cherry\"}) #frozenset\n",
        "print(f'{x}, data type = {type(x)}')"
      ],
      "metadata": {
        "colab": {
          "base_uri": "https://localhost:8080/"
        },
        "id": "IWG5O9eQjM4O",
        "outputId": "455389f4-3a1e-478d-e8ee-f54007846975"
      },
      "execution_count": 16,
      "outputs": [
        {
          "output_type": "stream",
          "name": "stdout",
          "text": [
            "['apple', 'banana', 'cherry'], data type = <class 'list'>\n",
            "('apple', 'banana', 'cherry'), data type = <class 'tuple'>\n",
            "range(0, 6), [0, 1, 2, 3, 4, 5], data type = <class 'range'>\n",
            "{'name': 'Tom', 'age': 20}, data type = <class 'dict'>\n",
            "{'banana', 'apple', 'cherry'}, data type = <class 'set'>\n",
            "frozenset({'banana', 'apple', 'cherry'}), data type = <class 'frozenset'>\n"
          ]
        }
      ]
    },
    {
      "cell_type": "code",
      "source": [
        "x = True#bool\n",
        "x = b\"Hello\"#bytes\n",
        "x = bytearray(5) #bytearray\n",
        "x = memoryview(bytes(5)) #memoryview\n",
        "x = None#NoneType"
      ],
      "metadata": {
        "id": "lUQi7ARdji5p"
      },
      "execution_count": 17,
      "outputs": []
    },
    {
      "cell_type": "code",
      "source": [
        "# casting\n",
        "x = str(3) # x will be '3'\n",
        "y = int(3) # y will be 3\n",
        "z = float(3) # z will be 3.0\n",
        "print(x, type(x))\n",
        "print(y, type(y))\n",
        "print(z, type(z))"
      ],
      "metadata": {
        "colab": {
          "base_uri": "https://localhost:8080/"
        },
        "id": "RMR1ar3Wjubm",
        "outputId": "1cb553e1-8468-4fef-93b2-33aa3128df9f"
      },
      "execution_count": 18,
      "outputs": [
        {
          "output_type": "stream",
          "name": "stdout",
          "text": [
            "3 <class 'str'>\n",
            "3 <class 'int'>\n",
            "3.0 <class 'float'>\n"
          ]
        }
      ]
    },
    {
      "cell_type": "code",
      "source": [
        "x = 2# int\n",
        "y = 3.4# float\n",
        "z = 7j#complex\n",
        "print(x, type(x))\n",
        "print(y, type(y))\n",
        "print(z, type(z))"
      ],
      "metadata": {
        "colab": {
          "base_uri": "https://localhost:8080/"
        },
        "id": "DrlQRIDMj2VF",
        "outputId": "bc0e6463-140b-4baa-a742-296d9d8efc7e"
      },
      "execution_count": 19,
      "outputs": [
        {
          "output_type": "stream",
          "name": "stdout",
          "text": [
            "2 <class 'int'>\n",
            "3.4 <class 'float'>\n",
            "7j <class 'complex'>\n"
          ]
        }
      ]
    },
    {
      "cell_type": "code",
      "source": [
        "print('7 + 2 =', 7+ 2)\n",
        "print('7 -2 =', 7-2)\n",
        "print('7 * 2 =', 7* 2)\n",
        "print('7 / 2 =', 7/ 2)\n",
        "print('7 // 2 =', 7// 2)\n",
        "print('7 % 2 =', 7% 2)\n",
        "print('7 ** 2 =', 7** 2)"
      ],
      "metadata": {
        "colab": {
          "base_uri": "https://localhost:8080/"
        },
        "id": "1dStNHPgj9Yo",
        "outputId": "14ebf1a6-a392-42ed-baf8-4555117a9e38"
      },
      "execution_count": 20,
      "outputs": [
        {
          "output_type": "stream",
          "name": "stdout",
          "text": [
            "7 + 2 = 9\n",
            "7 -2 = 5\n",
            "7 * 2 = 14\n",
            "7 / 2 = 3.5\n",
            "7 // 2 = 3\n",
            "7 % 2 = 1\n",
            "7 ** 2 = 49\n"
          ]
        }
      ]
    },
    {
      "cell_type": "code",
      "source": [
        "# Python Booleans: True or False\n",
        "print(3> 2)\n",
        "print(3== 2)\n",
        "print(3< 2)"
      ],
      "metadata": {
        "colab": {
          "base_uri": "https://localhost:8080/"
        },
        "id": "eD7HCPwkkGcu",
        "outputId": "c3d50afd-a9ef-4ac1-a48a-63da39033d83"
      },
      "execution_count": 21,
      "outputs": [
        {
          "output_type": "stream",
          "name": "stdout",
          "text": [
            "True\n",
            "False\n",
            "False\n"
          ]
        }
      ]
    },
    {
      "cell_type": "code",
      "source": [
        "for a, b in [(2, 5), (5, 2), (5, 5)]:\n",
        "    print(\"-\"*50)\n",
        "    print(f\"a<b: ({a}<{b}): {a<b}\")\n",
        "    print(f\"a>b: ({a}>{b}): {b<a}\")\n",
        "    print(f\"a<=b: ({a}<={b}): {not(b<a)}\")\n",
        "    print(f\"a>=b: ({a}>={b}): {not(a<b)}\")\n",
        "    # a==b <-> a>=b and b>=a <-> not(a<b) and not(b<a) <-> not((a<b) or (b<a))\n",
        "    # not (a and b) = not a or not b\n",
        "    # not (a or b) = not a and not b\n",
        "    print(f\"a==b: ({a}=={b}): {not((a<b) or (b<a))}\")\n",
        "    print(f\"a!=b: ({a}!={b}): {(a<b) or (b<a)}\")\n"
      ],
      "metadata": {
        "colab": {
          "base_uri": "https://localhost:8080/"
        },
        "id": "CuWMUhHjkLSM",
        "outputId": "99286796-66d0-484d-8a34-c94ba4463f6c"
      },
      "execution_count": 32,
      "outputs": [
        {
          "output_type": "stream",
          "name": "stdout",
          "text": [
            "--------------------------------------------------\n",
            "a<b: (2<5): True\n",
            "a>b: (2>5): False\n",
            "a<=b: (2<=5): True\n",
            "a>=b: (2>=5): False\n",
            "a==b: (2==5): False\n",
            "a!=b: (2!=5): True\n",
            "--------------------------------------------------\n",
            "a<b: (5<2): False\n",
            "a>b: (5>2): True\n",
            "a<=b: (5<=2): False\n",
            "a>=b: (5>=2): True\n",
            "a==b: (5==2): False\n",
            "a!=b: (5!=2): True\n",
            "--------------------------------------------------\n",
            "a<b: (5<5): False\n",
            "a>b: (5>5): False\n",
            "a<=b: (5<=5): True\n",
            "a>=b: (5>=5): True\n",
            "a==b: (5==5): True\n",
            "a!=b: (5!=5): False\n"
          ]
        }
      ]
    },
    {
      "cell_type": "code",
      "source": [
        "# BMI Calculator in Python\n",
        "height_cm= 170\n",
        "weight_kg= 60\n",
        "height_m= height_cm/100\n",
        "BMI = (weight_kg/(height_m**2))\n",
        "print(\"Your BMI is: \"+ str(round(BMI,1)))"
      ],
      "metadata": {
        "colab": {
          "base_uri": "https://localhost:8080/"
        },
        "id": "Cl91mPGzlpc6",
        "outputId": "4a10b0e4-dc1f-445f-ead2-a155fe6daafb"
      },
      "execution_count": 33,
      "outputs": [
        {
          "output_type": "stream",
          "name": "stdout",
          "text": [
            "Your BMI is: 20.8\n"
          ]
        }
      ]
    },
    {
      "cell_type": "code",
      "source": [
        "# How much is your $100 worth after 7 years?\n",
        "fv= 100* 1.1** 7\n",
        "print('fv= ', round(fv, 2))\n",
        "# output = 194.87"
      ],
      "metadata": {
        "colab": {
          "base_uri": "https://localhost:8080/"
        },
        "id": "JbQainUUl9e6",
        "outputId": "76f4e5eb-1fe2-4bd9-f78f-41cd29ae9bc7"
      },
      "execution_count": 34,
      "outputs": [
        {
          "output_type": "stream",
          "name": "stdout",
          "text": [
            "fv=  194.87\n"
          ]
        }
      ]
    },
    {
      "cell_type": "code",
      "source": [
        "# Future Value\n",
        "pv= 100\n",
        "r = 0.1\n",
        "n = 7\n",
        "fv= pv* ((1+ (r)) ** n)\n",
        "print(round(fv, 2))"
      ],
      "metadata": {
        "colab": {
          "base_uri": "https://localhost:8080/"
        },
        "id": "OUvJkMsSmI5F",
        "outputId": "d234306d-e6f0-4afb-9b26-9528c2eee7d0"
      },
      "execution_count": 35,
      "outputs": [
        {
          "output_type": "stream",
          "name": "stdout",
          "text": [
            "194.87\n"
          ]
        }
      ]
    },
    {
      "cell_type": "code",
      "source": [
        "# Future Value\n",
        "amount = 100\n",
        "interest = 10#10% = 0.01 * 10\n",
        "years = 7\n",
        "future_value= amount * ((1+ (0.01* interest)) ** years)\n",
        "print(round(future_value, 2))"
      ],
      "metadata": {
        "colab": {
          "base_uri": "https://localhost:8080/"
        },
        "id": "OwNC2AeGmUMD",
        "outputId": "eb8a5296-3589-428b-adf0-a0d59cea3023"
      },
      "execution_count": 36,
      "outputs": [
        {
          "output_type": "stream",
          "name": "stdout",
          "text": [
            "194.87\n"
          ]
        }
      ]
    },
    {
      "cell_type": "markdown",
      "source": [
        "## Data Structure"
      ],
      "metadata": {
        "id": "NA9mSg_QmX1X"
      }
    },
    {
      "cell_type": "code",
      "source": [
        "## List\n",
        "x = [60, 70, 80, 90]\n",
        "print(len(x))\n",
        "print(x[0])\n",
        "print(x[1])\n",
        "print(x[-1])\n",
        "\n",
        "print(x[0:2])\n",
        "print(x[0::2]) # from:to:step\n",
        "print(x[1::2])\n",
        "print(x[::-1])"
      ],
      "metadata": {
        "colab": {
          "base_uri": "https://localhost:8080/"
        },
        "id": "_1VkLtKKmcMw",
        "outputId": "40caa060-2620-4e31-aa99-895149836829"
      },
      "execution_count": 43,
      "outputs": [
        {
          "output_type": "stream",
          "name": "stdout",
          "text": [
            "4\n",
            "60\n",
            "70\n",
            "90\n",
            "[60, 70]\n",
            "[60, 80]\n",
            "[70, 90]\n",
            "[90, 80, 70, 60]\n"
          ]
        }
      ]
    },
    {
      "cell_type": "code",
      "source": [
        "# Python Dictionaries\n",
        "accounts = {\n",
        "    \"1001\": {\"name\": \"Cash\", \"balance\": 500.00, \"type\": \"Asset\"},\n",
        "    \"1002\": {\"name\": \"Accounts Receivable\", \"balance\": 1000.00, \"type\": \"Asset\"},\n",
        "    \"2001\": {\"name\": \"Accounts Payable\", \"balance\": 750.00, \"type\": \"Liability\"}\n",
        "}\n",
        "for account_number, account_info in accounts.items():\n",
        "    print(\"-\"*20)\n",
        "    print(\"Account number:\", account_number)\n",
        "    print(\"Account name:\", account_info[\"name\"])\n",
        "    print(\"Account balance:\", account_info[\"balance\"])\n",
        "    print(\"Account type:\", account_info[\"type\"])"
      ],
      "metadata": {
        "colab": {
          "base_uri": "https://localhost:8080/"
        },
        "id": "FEbpHP6in1N2",
        "outputId": "63da66c1-0f28-45df-f3b1-2c76bd234a2a"
      },
      "execution_count": 44,
      "outputs": [
        {
          "output_type": "stream",
          "name": "stdout",
          "text": [
            "--------------------\n",
            "Account number: 1001\n",
            "Account name: Cash\n",
            "Account balance: 500.0\n",
            "Account type: Asset\n",
            "--------------------\n",
            "Account number: 1002\n",
            "Account name: Accounts Receivable\n",
            "Account balance: 1000.0\n",
            "Account type: Asset\n",
            "--------------------\n",
            "Account number: 2001\n",
            "Account name: Accounts Payable\n",
            "Account balance: 750.0\n",
            "Account type: Liability\n"
          ]
        }
      ]
    },
    {
      "cell_type": "markdown",
      "source": [
        "## Control Logic"
      ],
      "metadata": {
        "id": "MeKqpRJFoIMm"
      }
    },
    {
      "cell_type": "code",
      "source": [
        "# Python if\n",
        "score = 80\n",
        "if score >=60:\n",
        "    print(\"Pass\")"
      ],
      "metadata": {
        "colab": {
          "base_uri": "https://localhost:8080/"
        },
        "id": "1qB2huVcoKPG",
        "outputId": "4a135e58-a6a5-402e-d162-846bbd05a898"
      },
      "execution_count": 45,
      "outputs": [
        {
          "output_type": "stream",
          "name": "stdout",
          "text": [
            "Pass\n"
          ]
        }
      ]
    },
    {
      "cell_type": "code",
      "source": [
        "# Python if elifelse\n",
        "score = 90\n",
        "grade = \"\"\n",
        "if score >=90:\n",
        "    grade = \"A\"\n",
        "elif score >= 80:\n",
        "    grade = \"B\"\n",
        "elif score >= 70:\n",
        "    grade = \"C\"\n",
        "elif score >= 60:\n",
        "    grade = \"D\"\n",
        "else:\n",
        "    grade = \"E\"\n",
        "print(grade)"
      ],
      "metadata": {
        "colab": {
          "base_uri": "https://localhost:8080/"
        },
        "id": "cCVUloTUojzb",
        "outputId": "56d9aebc-e27f-43e3-ba07-5db72e11137f"
      },
      "execution_count": 46,
      "outputs": [
        {
          "output_type": "stream",
          "name": "stdout",
          "text": [
            "A\n"
          ]
        }
      ]
    },
    {
      "cell_type": "markdown",
      "source": [
        "## Functions"
      ],
      "metadata": {
        "id": "gcf4bKYSo0Ii"
      }
    },
    {
      "cell_type": "code",
      "source": [
        "# Python Function def\n",
        "# indentation for blocks. four spaces\n",
        "def getfv(pv, r, n):\n",
        "    fv= pv* ((1+ (r)) ** n)\n",
        "    return fv\n",
        "\n",
        "fv= getfv(100, 0.1, 7)\n",
        "print(round(fv, 2))"
      ],
      "metadata": {
        "colab": {
          "base_uri": "https://localhost:8080/"
        },
        "id": "f-pgWizlo1wZ",
        "outputId": "91267f46-c6b2-4977-c2c6-114a735b47b5"
      },
      "execution_count": 47,
      "outputs": [
        {
          "output_type": "stream",
          "name": "stdout",
          "text": [
            "194.87\n"
          ]
        }
      ]
    },
    {
      "cell_type": "markdown",
      "source": [
        "## Class/Objects"
      ],
      "metadata": {
        "id": "E6ArWIecpKqn"
      }
    },
    {
      "cell_type": "code",
      "source": [
        "class Person:\n",
        "    def __init__(self, name, age):\n",
        "        self.name= name\n",
        "        self.age= age\n",
        "\n",
        "    def myfunc(self):\n",
        "        print(\"Hello my name is \"+ self.name)\n",
        "\n",
        "p1 = Person(\"Alan\", 20)\n",
        "print(p1.name)\n",
        "print(p1.age)\n",
        "p1.myfunc()"
      ],
      "metadata": {
        "colab": {
          "base_uri": "https://localhost:8080/"
        },
        "id": "LhkZcQhXpM9f",
        "outputId": "a767923d-9e83-43f8-d5f1-b8a3af2c295f"
      },
      "execution_count": 49,
      "outputs": [
        {
          "output_type": "stream",
          "name": "stdout",
          "text": [
            "Alan\n",
            "20\n",
            "Hello my name is Alan\n"
          ]
        }
      ]
    },
    {
      "cell_type": "markdown",
      "source": [
        "## Modules"
      ],
      "metadata": {
        "id": "Vd30T2Bnp0qR"
      }
    },
    {
      "cell_type": "code",
      "source": [
        "%%writefile mymodule.py\n",
        "def greeting(name):\n",
        "    print(\"Hello, \" + name)"
      ],
      "metadata": {
        "colab": {
          "base_uri": "https://localhost:8080/"
        },
        "id": "sz-Ms6psp5C1",
        "outputId": "6b1e9c0c-1962-4bf1-a59e-0f04b7c74917"
      },
      "execution_count": 50,
      "outputs": [
        {
          "output_type": "stream",
          "name": "stdout",
          "text": [
            "Writing mymodule.py\n"
          ]
        }
      ]
    },
    {
      "cell_type": "code",
      "source": [
        "!cat mymodule.py"
      ],
      "metadata": {
        "colab": {
          "base_uri": "https://localhost:8080/"
        },
        "id": "wK0NhIQwp9Pz",
        "outputId": "cba32916-f24d-492d-cd47-39f10819db7a"
      },
      "execution_count": 51,
      "outputs": [
        {
          "output_type": "stream",
          "name": "stdout",
          "text": [
            "def greeting(name):\n",
            "    print(\"Hello, \" + name)\n"
          ]
        }
      ]
    },
    {
      "cell_type": "code",
      "source": [
        "from mymodule import greeting\n",
        "greeting(\"Tom\")"
      ],
      "metadata": {
        "colab": {
          "base_uri": "https://localhost:8080/"
        },
        "id": "nUSPvFUnp_nA",
        "outputId": "12865a62-f10a-4c45-c01b-2ce23f0924f4"
      },
      "execution_count": 52,
      "outputs": [
        {
          "output_type": "stream",
          "name": "stdout",
          "text": [
            "Hello, Tom\n"
          ]
        }
      ]
    },
    {
      "cell_type": "markdown",
      "source": [
        "## Files / Input / Output"
      ],
      "metadata": {
        "id": "YS5jvMGgqLvI"
      }
    },
    {
      "cell_type": "code",
      "source": [
        "# Python File Input / Output\n",
        "with open('myfile.txt', 'w') as file:\n",
        "    file.write('Hello World\\nPythonFile IO')\n",
        "\n",
        "with open('myfile.txt', 'r') as file:\n",
        "    text = file.read()\n",
        "\n",
        "print(text)"
      ],
      "metadata": {
        "colab": {
          "base_uri": "https://localhost:8080/"
        },
        "id": "FkM1-YbgqRAe",
        "outputId": "a099ceb5-8628-40a9-a36a-94892fe70f17"
      },
      "execution_count": 53,
      "outputs": [
        {
          "output_type": "stream",
          "name": "stdout",
          "text": [
            "Hello World\n",
            "PythonFile IO\n"
          ]
        }
      ]
    },
    {
      "cell_type": "code",
      "source": [
        "# Python File Input / Output\n",
        "with open('myfile.txt', 'a+') as file:\n",
        "    file.write('\\n'+ 'New line')\n",
        "with open('myfile.txt', 'r') as file:\n",
        "    text = file.read()\n",
        "\n",
        "print(text)"
      ],
      "metadata": {
        "colab": {
          "base_uri": "https://localhost:8080/"
        },
        "id": "911d2-1Oqjrl",
        "outputId": "31c5a68d-9450-47f3-90f2-b58ac015f961"
      },
      "execution_count": 54,
      "outputs": [
        {
          "output_type": "stream",
          "name": "stdout",
          "text": [
            "Hello World\n",
            "PythonFile IO\n",
            "New line\n"
          ]
        }
      ]
    },
    {
      "cell_type": "code",
      "source": [
        "!ls"
      ],
      "metadata": {
        "colab": {
          "base_uri": "https://localhost:8080/"
        },
        "id": "dIgWqcQ2qqzr",
        "outputId": "89359658-6673-4871-b6ca-542e445091f7"
      },
      "execution_count": 55,
      "outputs": [
        {
          "output_type": "stream",
          "name": "stdout",
          "text": [
            "myfile.txt  mymodule.py  __pycache__  sample_data\n"
          ]
        }
      ]
    },
    {
      "cell_type": "code",
      "source": [
        "import os\n",
        "cwd= os.getcwd()\n",
        "print(cwd)"
      ],
      "metadata": {
        "colab": {
          "base_uri": "https://localhost:8080/"
        },
        "id": "zPV8SA9Iq9Aj",
        "outputId": "bd2db2d8-f04b-4cd6-e688-7bd6c2bd8c48"
      },
      "execution_count": 57,
      "outputs": [
        {
          "output_type": "stream",
          "name": "stdout",
          "text": [
            "/content\n"
          ]
        }
      ]
    },
    {
      "cell_type": "code",
      "source": [
        "os.listdir(cwd)"
      ],
      "metadata": {
        "colab": {
          "base_uri": "https://localhost:8080/"
        },
        "id": "Wtq3IQhVrBTI",
        "outputId": "6d12b0a0-79c0-40da-81d9-3667bea6e7bb"
      },
      "execution_count": 58,
      "outputs": [
        {
          "output_type": "execute_result",
          "data": {
            "text/plain": [
              "['.config', 'myfile.txt', 'mymodule.py', '__pycache__', 'sample_data']"
            ]
          },
          "metadata": {},
          "execution_count": 58
        }
      ]
    },
    {
      "cell_type": "code",
      "source": [
        "!ls sample_data/"
      ],
      "metadata": {
        "colab": {
          "base_uri": "https://localhost:8080/"
        },
        "id": "qPwwsfW6rDIS",
        "outputId": "56b917b3-a8eb-4264-a884-819795f4f22c"
      },
      "execution_count": 59,
      "outputs": [
        {
          "output_type": "stream",
          "name": "stdout",
          "text": [
            "anscombe.json\t\t      mnist_test.csv\n",
            "california_housing_test.csv   mnist_train_small.csv\n",
            "california_housing_train.csv  README.md\n"
          ]
        }
      ]
    },
    {
      "cell_type": "code",
      "source": [
        "path = os.path.join(cwd, 'sample_data')\n",
        "print(path)\n",
        "os.listdir(path)"
      ],
      "metadata": {
        "colab": {
          "base_uri": "https://localhost:8080/"
        },
        "id": "YLlHSWIcrFQ6",
        "outputId": "6e184782-68ee-45b9-f8d7-56b956fafd56"
      },
      "execution_count": 60,
      "outputs": [
        {
          "output_type": "stream",
          "name": "stdout",
          "text": [
            "/content/sample_data\n"
          ]
        },
        {
          "output_type": "execute_result",
          "data": {
            "text/plain": [
              "['anscombe.json',\n",
              " 'README.md',\n",
              " 'mnist_test.csv',\n",
              " 'mnist_train_small.csv',\n",
              " 'california_housing_train.csv',\n",
              " 'california_housing_test.csv']"
            ]
          },
          "metadata": {},
          "execution_count": 60
        }
      ]
    },
    {
      "cell_type": "code",
      "source": [
        "import glob\n",
        "files = glob.glob(\"**/*.csv\")\n",
        "print(files)"
      ],
      "metadata": {
        "colab": {
          "base_uri": "https://localhost:8080/"
        },
        "id": "Gg40Fwf4rPuy",
        "outputId": "af36b272-646e-4866-c237-3fa0dd6100ec"
      },
      "execution_count": 62,
      "outputs": [
        {
          "output_type": "stream",
          "name": "stdout",
          "text": [
            "['sample_data/mnist_test.csv', 'sample_data/mnist_train_small.csv', 'sample_data/california_housing_train.csv', 'sample_data/california_housing_test.csv']\n"
          ]
        }
      ]
    },
    {
      "cell_type": "markdown",
      "source": [
        "## Exceptions"
      ],
      "metadata": {
        "id": "Tn_URhyCrfTg"
      }
    },
    {
      "cell_type": "code",
      "source": [
        "#Python try except finally\n",
        "try:\n",
        "    print(\"Hello\")\n",
        "    int(\"aa\")\n",
        "    print(\"FInish\")\n",
        "except:\n",
        "    print(\"Exception Error\")\n",
        "finally:\n",
        "    print(\"Finally process\")"
      ],
      "metadata": {
        "colab": {
          "base_uri": "https://localhost:8080/"
        },
        "id": "ju1amcqjrhTb",
        "outputId": "210223c3-cb89-490e-f195-942e5dc6777f"
      },
      "execution_count": 65,
      "outputs": [
        {
          "output_type": "stream",
          "name": "stdout",
          "text": [
            "Hello\n",
            "Exception Error\n",
            "Finally process\n"
          ]
        }
      ]
    },
    {
      "cell_type": "markdown",
      "source": [
        "## Kết thúc"
      ],
      "metadata": {
        "id": "IPEZ7ck7heis"
      }
    },
    {
      "cell_type": "code",
      "source": [],
      "metadata": {
        "id": "7fCvzVWThi7g"
      },
      "execution_count": null,
      "outputs": []
    }
  ]
}